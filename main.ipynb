{
 "cells": [
  {
   "cell_type": "code",
   "execution_count": null,
   "metadata": {},
   "outputs": [],
   "source": [
    "# Downloading code. Colab only. \n",
    "!curl https://raw.githubusercontent.com/rodrigoclira/particle-swarm-optimization/main/PSO.py > PSO.py\n",
    "!curl https://raw.githubusercontent.com/rodrigoclira/particle-swarm-optimization/main/particle.py > particle.py\n",
    "!curl https://raw.githubusercontent.com/rodrigoclira/particle-swarm-optimization/main/problem.py > problem.py"
   ]
  },
  {
   "cell_type": "code",
   "execution_count": null,
   "metadata": {},
   "outputs": [],
   "source": [
    "from PSO import PSO\n",
    "from problem import *"
   ]
  },
  {
   "cell_type": "code",
   "execution_count": null,
   "metadata": {},
   "outputs": [],
   "source": [
    "c1 = 2.05\n",
    "c2 = 2.05\n",
    "\n",
    "topology = \"GLOBAL\"\n",
    "\n",
    "dimensions = 5\n",
    "agents = 20\n",
    "problem = Sphere(dimensions)\n",
    "max_iter = 1000\n",
    "\n",
    "w_constant = lambda it: 0.7\n",
    "w_decay = lambda it: 1 - it * 0.8/max_iter\n",
    "\n",
    "pso = PSO(agents, dimensions, max_iter, problem, topology, c1, c2, w_decay)\n",
    "\n",
    "best_fit, best_pos, convergence = pso.optimize() # Apenas uma execução?\n",
    "\n",
    "print(best_fit)\n",
    "print(best_pos)\n",
    "print(convergence)"
   ]
  }
 ],
 "metadata": {
  "language_info": {
   "name": "python"
  },
  "orig_nbformat": 4
 },
 "nbformat": 4,
 "nbformat_minor": 2
}
